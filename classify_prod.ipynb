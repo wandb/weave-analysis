{
 "cells": [
  {
   "cell_type": "code",
   "execution_count": 17,
   "id": "def258dc-8bf1-4f6e-a69d-43e70dc741ff",
   "metadata": {},
   "outputs": [],
   "source": [
    "import weave\n",
    "import new_api\n",
    "import pandas as pd"
   ]
  },
  {
   "cell_type": "code",
   "execution_count": 5,
   "id": "1b508f8e-7a84-4205-a0cd-be5c7f6d89db",
   "metadata": {},
   "outputs": [],
   "source": [
    "client = weave.init_local_client()"
   ]
  },
  {
   "cell_type": "code",
   "execution_count": 12,
   "id": "ee853a83-b6d0-42cb-9e2e-2c68c76caec5",
   "metadata": {},
   "outputs": [
    {
     "name": "stdout",
     "output_type": "stream",
     "text": [
      "Predicting\n",
      "cache_hits: 24\n"
     ]
    },
    {
     "name": "stderr",
     "output_type": "stream",
     "text": [
      "0it [00:00, ?it/s]\n"
     ]
    }
   ],
   "source": [
    "import openai\n",
    "@weave.op()\n",
    "def predict(model_name, math, temp, trial):\n",
    "    result = openai.chat.completions.create(model=model_name, messages=[{'role': 'user', 'content': math}])\n",
    "    return result.choices[0].message.content\n",
    "\n",
    "s = new_api.weave_sweep(predict,\n",
    "                        # dataset\n",
    "                        math=['1 + 2', '2 ** 64', 'x *** z'],\n",
    "                        # model\n",
    "                        model_name=['gpt-3.5-turbo', 'gpt-4o'],\n",
    "                        temp=[0, 1],\n",
    "                        # trials\n",
    "                        trial=[0, 1])\n",
    "print('Predicting')\n",
    "results = s.compute()"
   ]
  },
  {
   "cell_type": "code",
   "execution_count": 22,
   "id": "a8f5f8c7-29e7-467c-8308-cf81b2040a1c",
   "metadata": {},
   "outputs": [],
   "source": [
    "maths = []\n",
    "for c in client.calls():\n",
    "    maths.append({'math': c.inputs['math']})\n",
    "#maths = pd.json_normalize(maths)"
   ]
  },
  {
   "cell_type": "code",
   "execution_count": 24,
   "id": "55fdbde2-1f18-4720-bece-e82c2976f545",
   "metadata": {},
   "outputs": [
    {
     "data": {
      "text/plain": [
       "dict"
      ]
     },
     "execution_count": 24,
     "metadata": {},
     "output_type": "execute_result"
    }
   ],
   "source": [
    "type(maths[0])"
   ]
  },
  {
   "cell_type": "code",
   "execution_count": 20,
   "id": "4783c92d-4a12-4e97-b583-5169fd070e9c",
   "metadata": {},
   "outputs": [
    {
     "name": "stdout",
     "output_type": "stream",
     "text": [
      "cache_hits: 3\n"
     ]
    },
    {
     "name": "stderr",
     "output_type": "stream",
     "text": [
      "0it [00:00, ?it/s]\n"
     ]
    },
    {
     "data": {
      "text/plain": [
       "[({'math': '1 + 2'}, 5), ({'math': '2 ** 64'}, 7), ({'math': 'x *** z'}, 7)]"
      ]
     },
     "execution_count": 20,
     "metadata": {},
     "output_type": "execute_result"
    }
   ],
   "source": [
    "@weave.op()\n",
    "def classify(math):\n",
    "    return len(math)\n",
    "\n",
    "new_api.weave_map(maths, classify)"
   ]
  },
  {
   "cell_type": "code",
   "execution_count": 21,
   "id": "301cd0af-0e38-49b5-84bd-cfb95f12f37d",
   "metadata": {},
   "outputs": [
    {
     "ename": "AttributeError",
     "evalue": "'CallsIter' object has no attribute 'add_columns'",
     "output_type": "error",
     "traceback": [
      "\u001b[0;31m---------------------------------------------------------------------------\u001b[0m",
      "\u001b[0;31mAttributeError\u001b[0m                            Traceback (most recent call last)",
      "Cell \u001b[0;32mIn[21], line 1\u001b[0m\n\u001b[0;32m----> 1\u001b[0m \u001b[43mclient\u001b[49m\u001b[38;5;241;43m.\u001b[39;49m\u001b[43mcalls\u001b[49m\u001b[43m(\u001b[49m\u001b[43m)\u001b[49m\u001b[38;5;241;43m.\u001b[39;49m\u001b[43madd_columns\u001b[49m(\u001b[38;5;28;01mlambda\u001b[39;00m c: {\u001b[38;5;124m'\u001b[39m\u001b[38;5;124mlen\u001b[39m\u001b[38;5;124m'\u001b[39m: c\u001b[38;5;241m.\u001b[39minputs[\u001b[38;5;124m'\u001b[39m\u001b[38;5;124mmath\u001b[39m\u001b[38;5;124m'\u001b[39m]})\n",
      "\u001b[0;31mAttributeError\u001b[0m: 'CallsIter' object has no attribute 'add_columns'"
     ]
    }
   ],
   "source": [
    "client.calls().add_columns(lambda c: {'len': classify(c.inputs['math'])})"
   ]
  }
 ],
 "metadata": {
  "kernelspec": {
   "display_name": "Python 3 (ipykernel)",
   "language": "python",
   "name": "python3"
  },
  "language_info": {
   "codemirror_mode": {
    "name": "ipython",
    "version": 3
   },
   "file_extension": ".py",
   "mimetype": "text/x-python",
   "name": "python",
   "nbconvert_exporter": "python",
   "pygments_lexer": "ipython3",
   "version": "3.10.13"
  }
 },
 "nbformat": 4,
 "nbformat_minor": 5
}
