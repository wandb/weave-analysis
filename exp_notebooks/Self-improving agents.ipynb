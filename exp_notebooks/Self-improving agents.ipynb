{
 "cells": [
  {
   "cell_type": "code",
   "execution_count": 14,
   "id": "05656fc8-5f3c-4764-9d6d-0664ed773a15",
   "metadata": {},
   "outputs": [],
   "source": [
    "import weave\n",
    "\n",
    "\n",
    "# Helpers that should be in the Weave library\n",
    "def create_op(op_code: str) -> weave.Op:\n",
    "    from weave.trace.custom_objs import MemTraceFilesArtifact\n",
    "    from weave.trace import op_type\n",
    "    exec_locals = {}\n",
    "    exec(op_code, globals(), exec_locals)\n",
    "    art = MemTraceFilesArtifact({\"obj.py\": op_code.encode()})\n",
    "    fn = op_type.load_instance(art, \"obj\")\n",
    "    return fn"
   ]
  },
  {
   "cell_type": "code",
   "execution_count": 22,
   "id": "8d764877-3b3f-4b61-a38c-87f79051fd42",
   "metadata": {},
   "outputs": [
    {
     "data": {
      "text/plain": [
       "Op(add)"
      ]
     },
     "execution_count": 22,
     "metadata": {},
     "output_type": "execute_result"
    }
   ],
   "source": [
    "op = create_op(\n",
    "\"\"\"\n",
    "import weave\n",
    "@weave.op()\n",
    "\n",
    "def add(a, b):\n",
    "    return a+b\n",
    "\"\"\")\n",
    "op"
   ]
  },
  {
   "cell_type": "code",
   "execution_count": 1,
   "id": "81372d4e-f110-4c45-a18b-08948d653c22",
   "metadata": {},
   "outputs": [],
   "source": [
    "# This is our task definition. To make self-improving software, the primary thing we need is a function that\n",
    "# given a description of task, writes a function that achieves that task.\n",
    "# 1. By improving this function, we improve our software's power, it can write more advanced functions\n",
    "# 2. We can use this function to improve itself.\n",
    "\n",
    "# Wait is there a single function?\n",
    "# def improve_op(op_uri):\n",
    "#     pass\n",
    "# If we can make a monotonic version of this op, and then use it on itself, we will have exponential improvement.\n",
    "# We can't know if a function is strictly better than another. But we can evaluate a function.\n",
    "\n",
    "\n",
    "@weave.op\n",
    "def write_op(function_def: str) -> weave.Op:\n",
    "    pass"
   ]
  },
  {
   "cell_type": "code",
   "execution_count": null,
   "id": "5eacdaef-528f-4740-954f-86a0880781ec",
   "metadata": {},
   "outputs": [],
   "source": [
    "# The better this is, the faster our software will improve\n",
    "@weave.op\n",
    "def improve_op(op: weave.Op) -> weave.Op:\n",
    "    pass"
   ]
  },
  {
   "cell_type": "code",
   "execution_count": 23,
   "id": "cedf9e5f-f5a7-4c88-877e-5a45472a4fd8",
   "metadata": {},
   "outputs": [],
   "source": [
    "# Tag an op. ops tagged as main are the one you get back when you do weave.ref(<op_ref>).get()\n",
    "# Note instead of using main, we could have the concept of \"loaded\". So if you load an op at a symbol name, that's the one you'll use.\n",
    "@weave.op\n",
    "def tag_op(op: weave.Op, tag_name: str='main'):\n",
    "    pass"
   ]
  },
  {
   "cell_type": "code",
   "execution_count": 25,
   "id": "397683c0-79d2-4a1d-b9ef-9a325b92ba4b",
   "metadata": {},
   "outputs": [],
   "source": [
    "@weave.op\n",
    "def monotonically_improve_op(op: weave.Op) -> weave.Op:\n",
    "    # definitely improve the op in all dimensions\n",
    "    # Run an agent until it wants to return\n",
    "    improver = Agent(\"Write good software\",\n",
    "                     tools=[...])\n",
    "    agent_state = AgentState(messages=[{'user': f'Improve this op: {op}'}])\n",
    "    while True:\n",
    "        agent_state, result = agent.step(agent_state)\n",
    "        if result is not None:\n",
    "            return result\n",
    "    return new_op"
   ]
  },
  {
   "cell_type": "code",
   "execution_count": null,
   "id": "0cfac7d7-80b0-44fb-b002-7947b97311f7",
   "metadata": {},
   "outputs": [],
   "source": [
    "# So what we want to improve here is agent.step (including the state of agent, and the step code, which is an Object!).\n",
    "# So do I want monotonically improve method (which is an (object, method_name) tuple)?\n",
    "# What tools do we need?\n",
    "# create_op\n",
    "# call_op\n",
    "# eval_op\n",
    "# inspect_eval_results\n",
    "# inspect_prod_calls\n",
    "# improve_eval\n",
    "# improve_eval_suite\n",
    "# return(...)\n",
    "\n",
    "# This all needs to be async, so the agent can do stuff in parallel!\n",
    "# So we make return throw an error if op is not better than prior version on its eval suite\n",
    "# "
   ]
  },
  {
   "cell_type": "code",
   "execution_count": null,
   "id": "de2214ec-3904-4111-bb48-b9b4b733ba36",
   "metadata": {},
   "outputs": [],
   "source": []
  },
  {
   "cell_type": "code",
   "execution_count": null,
   "id": "2f2983e8-0a68-4078-93ae-58c56ae250cd",
   "metadata": {},
   "outputs": [],
   "source": [
    "# How do you improve an op?\n",
    "# tasks you can do\n",
    "# - try it\n",
    "# - look at usage, create evals\n",
    "# - evaluate it\n",
    "# - change it\n",
    "# look at it, look at its evals, look at its usage\n",
    "# try a different version of it\n",
    "# of augment"
   ]
  }
 ],
 "metadata": {
  "kernelspec": {
   "display_name": "Python 3 (ipykernel)",
   "language": "python",
   "name": "python3"
  },
  "language_info": {
   "codemirror_mode": {
    "name": "ipython",
    "version": 3
   },
   "file_extension": ".py",
   "mimetype": "text/x-python",
   "name": "python",
   "nbconvert_exporter": "python",
   "pygments_lexer": "ipython3",
   "version": "3.10.13"
  }
 },
 "nbformat": 4,
 "nbformat_minor": 5
}
