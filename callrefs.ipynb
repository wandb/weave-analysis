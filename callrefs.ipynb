{
 "cells": [
  {
   "cell_type": "code",
   "execution_count": 1,
   "id": "464f2b16-14fa-43ff-b69a-a1bb2c6394ff",
   "metadata": {},
   "outputs": [],
   "source": [
    "import weave \n",
    "import openai"
   ]
  },
  {
   "cell_type": "code",
   "execution_count": 2,
   "id": "1259658b-f348-4925-9c6e-0c3cc861fc34",
   "metadata": {},
   "outputs": [],
   "source": [
    "@weave.op()\n",
    "def predict(model_name, math, temp, trial):\n",
    "    result = openai.chat.completions.create(model=model_name, messages=[{'role': 'user', 'content': math}])\n",
    "    return result.choices[0].message.content"
   ]
  },
  {
   "cell_type": "code",
   "execution_count": 3,
   "id": "b674cdcc-de1e-4630-b91f-925d45218f3b",
   "metadata": {},
   "outputs": [],
   "source": [
    "client = weave.init_local_client()"
   ]
  },
  {
   "cell_type": "code",
   "execution_count": 17,
   "id": "2c009c45-ec80-4e70-833d-7c41a0c531ab",
   "metadata": {},
   "outputs": [
    {
     "name": "stdout",
     "output_type": "stream",
     "text": [
      "🍩 https://wandb.ai/none/none/r/call/7c127704-218f-4e80-a81d-69d37c36fe53\n"
     ]
    }
   ],
   "source": [
    "math = 'x***y'\n",
    "res = predict('gpt-3.5-turbo', math, 0, 0)"
   ]
  },
  {
   "cell_type": "code",
   "execution_count": 15,
   "id": "1da50c8a-c7ca-41ce-80bf-0b043a8abf7f",
   "metadata": {},
   "outputs": [],
   "source": [
    "@weave.op()\n",
    "def score(math, predict):\n",
    "    prompt = f'Does this seem right to you? Respond with just NO or YES.\\nQuestion:{math}\\nAnswer:{predict}'\n",
    "    result = openai.chat.completions.create(model='gpt-4o', messages=[{'role': 'user', 'content': prompt}])\n",
    "    return result.choices[0].message.content"
   ]
  },
  {
   "cell_type": "code",
   "execution_count": 18,
   "id": "d0b77e61-9c66-4a9d-bc40-66369a969045",
   "metadata": {},
   "outputs": [
    {
     "name": "stdout",
     "output_type": "stream",
     "text": [
      "🍩 https://wandb.ai/none/none/r/call/6317c66e-71fc-4c4d-8f34-2211b79c854d\n"
     ]
    }
   ],
   "source": [
    "score_output = score(math, res)"
   ]
  },
  {
   "cell_type": "code",
   "execution_count": 14,
   "id": "12db7851-d5cf-4ef7-83e6-1ad058b44788",
   "metadata": {},
   "outputs": [
    {
     "data": {
      "text/plain": [
       "'YES'"
      ]
     },
     "execution_count": 14,
     "metadata": {},
     "output_type": "execute_result"
    }
   ],
   "source": [
    "score_output"
   ]
  },
  {
   "cell_type": "code",
   "execution_count": null,
   "id": "e4e9e9ca-03aa-4b60-9bae-b8860a1623f9",
   "metadata": {},
   "outputs": [],
   "source": [
    "import pandas as pd\n",
    "data = {\n",
    "    'A': ['foo', 'bar', 'baz'],\n",
    "    'B': ['one', 'two', 'three'],\n",
    "    'C': ['apple', 'banana', 'cherry']\n",
    "}\n",
    "\n",
    "df = pd.DataFrame(data)"
   ]
  },
  {
   "cell_type": "code",
   "execution_count": null,
   "id": "32db858a-a45d-4c47-a4e8-192add7d2e7e",
   "metadata": {},
   "outputs": [],
   "source": [
    "df[['A', 'B']].values"
   ]
  },
  {
   "cell_type": "code",
   "execution_count": null,
   "id": "0a01ee6a-bd3c-4a0e-b9a7-725143418dd6",
   "metadata": {},
   "outputs": [],
   "source": [
    "@weave.op()\n",
    "def score2(math):\n",
    "    return len(math) *100\n",
    "score2(res)"
   ]
  }
 ],
 "metadata": {
  "kernelspec": {
   "display_name": "Python 3 (ipykernel)",
   "language": "python",
   "name": "python3"
  },
  "language_info": {
   "codemirror_mode": {
    "name": "ipython",
    "version": 3
   },
   "file_extension": ".py",
   "mimetype": "text/x-python",
   "name": "python",
   "nbconvert_exporter": "python",
   "pygments_lexer": "ipython3",
   "version": "3.10.13"
  }
 },
 "nbformat": 4,
 "nbformat_minor": 5
}
