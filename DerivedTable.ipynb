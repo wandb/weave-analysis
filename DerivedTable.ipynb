{
 "cells": [
  {
   "cell_type": "code",
   "execution_count": 1,
   "id": "10399304-c0a0-433c-a441-d7f8d755b200",
   "metadata": {},
   "outputs": [],
   "source": [
    "import weave\n",
    "import new_api"
   ]
  },
  {
   "cell_type": "code",
   "execution_count": 2,
   "id": "1e76ac61-406f-4855-bbd9-70f27c2b75f5",
   "metadata": {},
   "outputs": [
    {
     "data": {
      "text/plain": []
     },
     "execution_count": 2,
     "metadata": {},
     "output_type": "execute_result"
    }
   ],
   "source": [
    "weave.init_local_client()"
   ]
  },
  {
   "cell_type": "code",
   "execution_count": 3,
   "id": "a5a56ead-6ae0-4513-bd96-e1f909ad8d3e",
   "metadata": {},
   "outputs": [],
   "source": [
    "import openai\n",
    "@weave.op()\n",
    "def predict(model_name, math, temp, trial):\n",
    "    result = openai.chat.completions.create(model=model_name, messages=[{'role': 'user', 'content': math}], stream=True)\n",
    "    return result\n",
    "    return result.choices[0].message.content\n",
    "\n",
    "@weave.op()\n",
    "def determine_question(predict):\n",
    "    prompt = f'What is this an answer to?: {predict}'\n",
    "    result = openai.chat.completions.create(model='gpt-4o', messages=[{'role': 'user', 'content': prompt}], stream=True)\n",
    "    return result\n",
    "    return result.choices[0].message.content"
   ]
  },
  {
   "cell_type": "code",
   "execution_count": 4,
   "id": "d7240622-58ec-4835-82cf-6acd08882633",
   "metadata": {},
   "outputs": [],
   "source": [
    "t = new_api.ComputeTable()\n",
    "t.add_input('model_name')\n",
    "t.add_input('math')\n",
    "t.add_input('temp')\n",
    "t.add_input('trial')"
   ]
  },
  {
   "cell_type": "code",
   "execution_count": 5,
   "id": "e13ceca5-8c85-4cdc-907e-87f878590f90",
   "metadata": {},
   "outputs": [],
   "source": [
    "t.add_op(predict)\n",
    "t.add_op(determine_question)"
   ]
  },
  {
   "cell_type": "code",
   "execution_count": 6,
   "id": "3139e5b7-174b-41c9-95fe-fc32e48dd827",
   "metadata": {},
   "outputs": [
    {
     "data": {
      "text/html": [
       "<pre style=\"white-space:pre;overflow-x:auto;line-height:normal;font-family:Menlo,'DejaVu Sans Mono',consolas,'Courier New',monospace\">┏━━━━━━━━━━━━━━━━┳━━━━━━━━━━┳━━━━━━━━━━┳━━━━━━━━━━━┳━━━━━━━━━━━━━┳━━━━━━━━━━━━━━━━━━━━━━━━┓\n",
       "┃<span style=\"font-weight: bold\"> model_name (i) </span>┃<span style=\"font-weight: bold\"> math (i) </span>┃<span style=\"font-weight: bold\"> temp (i) </span>┃<span style=\"font-weight: bold\"> trial (i) </span>┃<span style=\"font-weight: bold\"> predict (o) </span>┃<span style=\"font-weight: bold\"> determine_question (o) </span>┃\n",
       "┡━━━━━━━━━━━━━━━━╇━━━━━━━━━━╇━━━━━━━━━━╇━━━━━━━━━━━╇━━━━━━━━━━━━━╇━━━━━━━━━━━━━━━━━━━━━━━━┩\n",
       "└────────────────┴──────────┴──────────┴───────────┴─────────────┴────────────────────────┘\n",
       "</pre>\n"
      ],
      "text/plain": [
       "┏━━━━━━━━━━━━━━━━┳━━━━━━━━━━┳━━━━━━━━━━┳━━━━━━━━━━━┳━━━━━━━━━━━━━┳━━━━━━━━━━━━━━━━━━━━━━━━┓\n",
       "┃\u001b[1m \u001b[0m\u001b[1mmodel_name (i)\u001b[0m\u001b[1m \u001b[0m┃\u001b[1m \u001b[0m\u001b[1mmath (i)\u001b[0m\u001b[1m \u001b[0m┃\u001b[1m \u001b[0m\u001b[1mtemp (i)\u001b[0m\u001b[1m \u001b[0m┃\u001b[1m \u001b[0m\u001b[1mtrial (i)\u001b[0m\u001b[1m \u001b[0m┃\u001b[1m \u001b[0m\u001b[1mpredict (o)\u001b[0m\u001b[1m \u001b[0m┃\u001b[1m \u001b[0m\u001b[1mdetermine_question (o)\u001b[0m\u001b[1m \u001b[0m┃\n",
       "┡━━━━━━━━━━━━━━━━╇━━━━━━━━━━╇━━━━━━━━━━╇━━━━━━━━━━━╇━━━━━━━━━━━━━╇━━━━━━━━━━━━━━━━━━━━━━━━┩\n",
       "└────────────────┴──────────┴──────────┴───────────┴─────────────┴────────────────────────┘\n"
      ]
     },
     "execution_count": 6,
     "metadata": {},
     "output_type": "execute_result"
    }
   ],
   "source": [
    "t.rich_table()"
   ]
  },
  {
   "cell_type": "code",
   "execution_count": 7,
   "id": "c5fa15c2-da1a-42c3-93ee-e16f30257f06",
   "metadata": {},
   "outputs": [],
   "source": [
    "t.add_row({'model_name': 'gpt-3.5-turbo', 'math': '2 + 2', 'temp': 0, 'trial': 0})\n",
    "t.add_row({'model_name': 'gpt-3.5-turbo', 'math': '2 ** 32', 'temp': 0, 'trial': 0})\n",
    "t.add_row({'model_name': 'gpt-3.5-turbo', 'math': 'x *** y', 'temp': 0, 'trial': 0})"
   ]
  },
  {
   "cell_type": "code",
   "execution_count": 8,
   "id": "99452d1a-51d7-43c2-abc7-896498bf7c52",
   "metadata": {},
   "outputs": [
    {
     "data": {
      "text/html": [
       "<pre style=\"white-space:pre;overflow-x:auto;line-height:normal;font-family:Menlo,'DejaVu Sans Mono',consolas,'Courier New',monospace\">┏━━━━━━━━━━━━━━━━┳━━━━━━━━━━┳━━━━━━━━━━┳━━━━━━━━━━━┳━━━━━━━━━━━━━┳━━━━━━━━━━━━━━━━━━━━━━━━┓\n",
       "┃<span style=\"font-weight: bold\"> model_name (i) </span>┃<span style=\"font-weight: bold\"> math (i) </span>┃<span style=\"font-weight: bold\"> temp (i) </span>┃<span style=\"font-weight: bold\"> trial (i) </span>┃<span style=\"font-weight: bold\"> predict (o) </span>┃<span style=\"font-weight: bold\"> determine_question (o) </span>┃\n",
       "┡━━━━━━━━━━━━━━━━╇━━━━━━━━━━╇━━━━━━━━━━╇━━━━━━━━━━━╇━━━━━━━━━━━━━╇━━━━━━━━━━━━━━━━━━━━━━━━┩\n",
       "│ gpt-3.5-turbo  │ 2 + 2    │ 0        │ 0         │ -           │ -                      │\n",
       "│ gpt-3.5-turbo  │ 2 ** 32  │ 0        │ 0         │ -           │ -                      │\n",
       "│ gpt-3.5-turbo  │ x *** y  │ 0        │ 0         │ -           │ -                      │\n",
       "└────────────────┴──────────┴──────────┴───────────┴─────────────┴────────────────────────┘\n",
       "</pre>\n"
      ],
      "text/plain": [
       "┏━━━━━━━━━━━━━━━━┳━━━━━━━━━━┳━━━━━━━━━━┳━━━━━━━━━━━┳━━━━━━━━━━━━━┳━━━━━━━━━━━━━━━━━━━━━━━━┓\n",
       "┃\u001b[1m \u001b[0m\u001b[1mmodel_name (i)\u001b[0m\u001b[1m \u001b[0m┃\u001b[1m \u001b[0m\u001b[1mmath (i)\u001b[0m\u001b[1m \u001b[0m┃\u001b[1m \u001b[0m\u001b[1mtemp (i)\u001b[0m\u001b[1m \u001b[0m┃\u001b[1m \u001b[0m\u001b[1mtrial (i)\u001b[0m\u001b[1m \u001b[0m┃\u001b[1m \u001b[0m\u001b[1mpredict (o)\u001b[0m\u001b[1m \u001b[0m┃\u001b[1m \u001b[0m\u001b[1mdetermine_question (o)\u001b[0m\u001b[1m \u001b[0m┃\n",
       "┡━━━━━━━━━━━━━━━━╇━━━━━━━━━━╇━━━━━━━━━━╇━━━━━━━━━━━╇━━━━━━━━━━━━━╇━━━━━━━━━━━━━━━━━━━━━━━━┩\n",
       "│ gpt-3.5-turbo  │ 2 + 2    │ 0        │ 0         │ -           │ -                      │\n",
       "│ gpt-3.5-turbo  │ 2 ** 32  │ 0        │ 0         │ -           │ -                      │\n",
       "│ gpt-3.5-turbo  │ x *** y  │ 0        │ 0         │ -           │ -                      │\n",
       "└────────────────┴──────────┴──────────┴───────────┴─────────────┴────────────────────────┘\n"
      ]
     },
     "execution_count": 8,
     "metadata": {},
     "output_type": "execute_result"
    }
   ],
   "source": [
    "t.rich_table()"
   ]
  },
  {
   "cell_type": "code",
   "execution_count": 9,
   "id": "5459e0b8-83a5-4d53-abb5-48139303ceca",
   "metadata": {},
   "outputs": [
    {
     "data": {
      "text/plain": [
       "{'predict': {'not_computed': 3}, 'determine_question': {'not_computed': 3}}"
      ]
     },
     "execution_count": 9,
     "metadata": {},
     "output_type": "execute_result"
    }
   ],
   "source": [
    "t.status()"
   ]
  },
  {
   "cell_type": "code",
   "execution_count": 10,
   "id": "56dfa5dc-af2e-4da3-9090-4bd291e40c75",
   "metadata": {},
   "outputs": [],
   "source": [
    "t.fill_from_cache()"
   ]
  },
  {
   "cell_type": "code",
   "execution_count": 11,
   "id": "1fc869ea-3056-48d8-a4c3-32254bf16914",
   "metadata": {},
   "outputs": [
    {
     "data": {
      "application/vnd.jupyter.widget-view+json": {
       "model_id": "0a72c31a8dfb467fb077a651f5bc90fe",
       "version_major": 2,
       "version_minor": 0
      },
      "text/plain": [
       "Output()"
      ]
     },
     "metadata": {},
     "output_type": "display_data"
    },
    {
     "data": {
      "text/html": [
       "<pre style=\"white-space:pre;overflow-x:auto;line-height:normal;font-family:Menlo,'DejaVu Sans Mono',consolas,'Courier New',monospace\">0 predict {'model_name': 'gpt-3.5-turbo', 'math': '2 + 2', 'temp': 0, 'trial': 0}\n",
       "</pre>\n"
      ],
      "text/plain": [
       "0 predict {'model_name': 'gpt-3.5-turbo', 'math': '2 + 2', 'temp': 0, 'trial': 0}\n"
      ]
     },
     "metadata": {},
     "output_type": "display_data"
    },
    {
     "data": {
      "text/html": [
       "<pre style=\"white-space:pre;overflow-x:auto;line-height:normal;font-family:Menlo,'DejaVu Sans Mono',consolas,'Courier New',monospace\">🍩 https://wandb.ai/none/none/r/call/3b7c505d-107a-4ea4-8bb3-61ec3f970197\n",
       "</pre>\n"
      ],
      "text/plain": [
       "🍩 https://wandb.ai/none/none/r/call/3b7c505d-107a-4ea4-8bb3-61ec3f970197\n"
      ]
     },
     "metadata": {},
     "output_type": "display_data"
    },
    {
     "data": {
      "text/html": [
       "<pre style=\"white-space:pre;overflow-x:auto;line-height:normal;font-family:Menlo,'DejaVu Sans Mono',consolas,'Courier New',monospace\">1 predict {'model_name': 'gpt-3.5-turbo', 'math': '2 ** 32', 'temp': 0, 'trial': 0}\n",
       "</pre>\n"
      ],
      "text/plain": [
       "1 predict {'model_name': 'gpt-3.5-turbo', 'math': '2 ** 32', 'temp': 0, 'trial': 0}\n"
      ]
     },
     "metadata": {},
     "output_type": "display_data"
    },
    {
     "data": {
      "text/html": [
       "<pre style=\"white-space:pre;overflow-x:auto;line-height:normal;font-family:Menlo,'DejaVu Sans Mono',consolas,'Courier New',monospace\">🍩 https://wandb.ai/none/none/r/call/e8871768-c7f4-4f42-bd73-45ac8901e504\n",
       "</pre>\n"
      ],
      "text/plain": [
       "🍩 https://wandb.ai/none/none/r/call/e8871768-c7f4-4f42-bd73-45ac8901e504\n"
      ]
     },
     "metadata": {},
     "output_type": "display_data"
    },
    {
     "data": {
      "text/html": [
       "<pre style=\"white-space:pre;overflow-x:auto;line-height:normal;font-family:Menlo,'DejaVu Sans Mono',consolas,'Courier New',monospace\">2 predict {'model_name': 'gpt-3.5-turbo', 'math': 'x *** y', 'temp': 0, 'trial': 0}\n",
       "</pre>\n"
      ],
      "text/plain": [
       "2 predict {'model_name': 'gpt-3.5-turbo', 'math': 'x *** y', 'temp': 0, 'trial': 0}\n"
      ]
     },
     "metadata": {},
     "output_type": "display_data"
    },
    {
     "data": {
      "text/html": [
       "<pre style=\"white-space:pre;overflow-x:auto;line-height:normal;font-family:Menlo,'DejaVu Sans Mono',consolas,'Courier New',monospace\">🍩 https://wandb.ai/none/none/r/call/815f6777-2ac3-4bd1-8aeb-f8d7cc95aa3c\n",
       "</pre>\n"
      ],
      "text/plain": [
       "🍩 https://wandb.ai/none/none/r/call/815f6777-2ac3-4bd1-8aeb-f8d7cc95aa3c\n"
      ]
     },
     "metadata": {},
     "output_type": "display_data"
    },
    {
     "data": {
      "text/html": [
       "<pre style=\"white-space:pre;overflow-x:auto;line-height:normal;font-family:Menlo,'DejaVu Sans Mono',consolas,'Courier New',monospace\">0 determine_question {'predict': '4'}\n",
       "</pre>\n"
      ],
      "text/plain": [
       "0 determine_question {'predict': '4'}\n"
      ]
     },
     "metadata": {},
     "output_type": "display_data"
    },
    {
     "data": {
      "text/html": [
       "<pre style=\"white-space:pre;overflow-x:auto;line-height:normal;font-family:Menlo,'DejaVu Sans Mono',consolas,'Courier New',monospace\">🍩 https://wandb.ai/none/none/r/call/7be0dabe-f93a-4897-947c-166c26e915c9\n",
       "</pre>\n"
      ],
      "text/plain": [
       "🍩 https://wandb.ai/none/none/r/call/7be0dabe-f93a-4897-947c-166c26e915c9\n"
      ]
     },
     "metadata": {},
     "output_type": "display_data"
    },
    {
     "data": {
      "text/html": [
       "<pre style=\"white-space:pre;overflow-x:auto;line-height:normal;font-family:Menlo,'DejaVu Sans Mono',consolas,'Courier New',monospace\">1 determine_question {'predict': 'is equal to 4,294,967,296.'}\n",
       "</pre>\n"
      ],
      "text/plain": [
       "1 determine_question {'predict': 'is equal to 4,294,967,296.'}\n"
      ]
     },
     "metadata": {},
     "output_type": "display_data"
    },
    {
     "data": {
      "text/html": [
       "<pre style=\"white-space:pre;overflow-x:auto;line-height:normal;font-family:Menlo,'DejaVu Sans Mono',consolas,'Courier New',monospace\">🍩 https://wandb.ai/none/none/r/call/0ca518da-d6bd-4cda-80da-26f400e60a4a\n",
       "</pre>\n"
      ],
      "text/plain": [
       "🍩 https://wandb.ai/none/none/r/call/0ca518da-d6bd-4cda-80da-26f400e60a4a\n"
      ]
     },
     "metadata": {},
     "output_type": "display_data"
    },
    {
     "data": {
      "text/html": [
       "<pre style=\"white-space:pre;overflow-x:auto;line-height:normal;font-family:Menlo,'DejaVu Sans Mono',consolas,'Courier New',monospace\">2 determine_question {'predict': 'The result of x *** y is undefined as the operator \"***\" is not a standard \n",
       "mathematical or programming operation.'}\n",
       "</pre>\n"
      ],
      "text/plain": [
       "2 determine_question {'predict': 'The result of x *** y is undefined as the operator \"***\" is not a standard \n",
       "mathematical or programming operation.'}\n"
      ]
     },
     "metadata": {},
     "output_type": "display_data"
    },
    {
     "data": {
      "text/html": [
       "<pre style=\"white-space:pre;overflow-x:auto;line-height:normal;font-family:Menlo,'DejaVu Sans Mono',consolas,'Courier New',monospace\">🍩 https://wandb.ai/none/none/r/call/4441bd9d-363c-4c30-9a4b-7f8861b679a3\n",
       "</pre>\n"
      ],
      "text/plain": [
       "🍩 https://wandb.ai/none/none/r/call/4441bd9d-363c-4c30-9a4b-7f8861b679a3\n"
      ]
     },
     "metadata": {},
     "output_type": "display_data"
    },
    {
     "data": {
      "text/html": [
       "<pre style=\"white-space:pre;overflow-x:auto;line-height:normal;font-family:Menlo,'DejaVu Sans Mono',consolas,'Courier New',monospace\"></pre>\n"
      ],
      "text/plain": []
     },
     "metadata": {},
     "output_type": "display_data"
    }
   ],
   "source": [
    "from rich.live import Live\n",
    "from rich.table import Table\n",
    "\n",
    "with Live(t.rich_table(), refresh_per_second=4) as live:\n",
    "    for v in t.execute():\n",
    "        live.update(t.rich_table())"
   ]
  }
 ],
 "metadata": {
  "kernelspec": {
   "display_name": "Python 3 (ipykernel)",
   "language": "python",
   "name": "python3"
  },
  "language_info": {
   "codemirror_mode": {
    "name": "ipython",
    "version": 3
   },
   "file_extension": ".py",
   "mimetype": "text/x-python",
   "name": "python",
   "nbconvert_exporter": "python",
   "pygments_lexer": "ipython3",
   "version": "3.10.13"
  }
 },
 "nbformat": 4,
 "nbformat_minor": 5
}
